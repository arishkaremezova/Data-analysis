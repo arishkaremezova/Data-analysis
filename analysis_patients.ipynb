{
 "cells": [
  {
   "cell_type": "markdown",
   "id": "f8099377-c985-47ba-9687-2f996220c3ed",
   "metadata": {
    "panel-layout": {
     "height": 127.445,
     "visible": true,
     "width": 100
    }
   },
   "source": [
    "# Анализ медицинских данных\n",
    "## Задание 1. Подготовка окружения и знакомство с данными\n",
    "\n",
    "Установила библиотеки: numpy, pandas, matplotlib, seaborn, scipy, statsmodels, jupyter."
   ]
  },
  {
   "cell_type": "code",
   "execution_count": 32,
   "id": "bed63681-8540-4320-a591-e3fb7f1a0839",
   "metadata": {
    "scrolled": true
   },
   "outputs": [],
   "source": [
    "import numpy as np \n",
    "import pandas as pd\n",
    "import matplotlib\n",
    "import seaborn\n",
    "import scipy\n",
    "import statsmodels\n",
    "import csv\n",
    "import jupyter"
   ]
  },
  {
   "cell_type": "markdown",
   "id": "c4542eb6-659f-4c95-89fc-1de262b26aca",
   "metadata": {
    "panel-layout": {
     "height": 51.1406,
     "visible": true,
     "width": 100
    }
   },
   "source": [
    "### Метод head(). Первые строчки датасета"
   ]
  },
  {
   "cell_type": "code",
   "execution_count": 28,
   "id": "46ac08c8-3d86-476b-981a-2136395905c5",
   "metadata": {
    "panel-layout": {
     "height": 0,
     "visible": true,
     "width": 100
    },
    "scrolled": true
   },
   "outputs": [
    {
     "name": "stdout",
     "output_type": "stream",
     "text": [
      "   PatientID    Group      Score\n",
      "0          1  Placebo  60.870471\n",
      "1          2     Drug  63.997831\n",
      "2          3  Placebo  60.917608\n",
      "3          4  Placebo  40.124311\n",
      "4          5  Placebo  57.803281\n"
     ]
    }
   ],
   "source": [
    "clinical_data = pd.read_csv(\"clinical_trial_data.csv\")\n",
    "\n",
    "print(clinical_data.head())\n"
   ]
  },
  {
   "cell_type": "markdown",
   "id": "c7999b97-9a27-430a-b036-0e9481c78b48",
   "metadata": {
    "panel-layout": {
     "height": 145,
     "visible": true,
     "width": 100
    }
   },
   "source": [
    "###  Метод info()\n",
    "\n",
    "Используя данный метод мы выяснили, что таблица состоит из трех столбов: \n",
    "PatientID - все данные типа int \n",
    "Group - данные типа object (строки), группа принимаемого препарата лекарство/плацебо\n",
    "Score - данные типа float, оценка самочувствия\n",
    "\n",
    "200 non-null данных: нет пропущенных значений"
   ]
  },
  {
   "cell_type": "code",
   "execution_count": 42,
   "id": "7f4cd225-0585-473b-917d-cd4e4199e0cb",
   "metadata": {
    "panel-layout": {
     "height": 0,
     "visible": true,
     "width": 100
    }
   },
   "outputs": [
    {
     "name": "stdout",
     "output_type": "stream",
     "text": [
      "<class 'pandas.core.frame.DataFrame'>\n",
      "RangeIndex: 200 entries, 0 to 199\n",
      "Data columns (total 3 columns):\n",
      " #   Column     Non-Null Count  Dtype  \n",
      "---  ------     --------------  -----  \n",
      " 0   PatientID  200 non-null    int64  \n",
      " 1   Group      200 non-null    object \n",
      " 2   Score      200 non-null    float64\n",
      "dtypes: float64(1), int64(1), object(1)\n",
      "memory usage: 4.8+ KB\n",
      "None\n"
     ]
    }
   ],
   "source": [
    "clinical_data = pd.read_csv(\"clinical_trial_data.csv\")\n",
    "df = pd.DataFrame(clinical_data)\n",
    "\n",
    "print(df.info())"
   ]
  },
  {
   "cell_type": "markdown",
   "id": "37480106-06da-4524-9396-fc9c48c0eeb4",
   "metadata": {
    "panel-layout": {
     "height": 242.703,
     "visible": true,
     "width": 100
    }
   },
   "source": [
    "### Метод describe()\n",
    "\n",
    "Пропущенных значений (count) - 0\n",
    "Среднее арифметическое (mean) по столбцу Score - 65.27, означает среднюю оценку самочувствия пациентов\n",
    "Стандартное отклонение (std) - 11.09, показывет насколько далеко отдельные значения в наборе данных отклоняются от среднего, в среднем паценрты оценивают свое состояние как 54-76\n",
    "Минимум (min) - 11.09\n",
    "Первый квартиль, Q1 (25%) - 58.02, 25% пациентов оценивают самочувствие на 58 и ниже\n",
    "Второй квартиль, Q2 (50%) - 65.14, 50% пациентов оценивают самочувствие на 65 и ниже \n",
    "Второй квартиль, Q3 (75%) - 72.50, 75% пациентов оценивают самочувствие y 72 и ниже \n",
    "Максимальное значение (max) - 98.53\n",
    "\n",
    "Первый столбец PatientID не дает репрезентативных данных, так как несет за собой порядковые номера от 1 до 200 пациентов "
   ]
  },
  {
   "cell_type": "code",
   "execution_count": 46,
   "id": "57b174d7-e124-45ab-b033-ed8b7b486ac3",
   "metadata": {
    "panel-layout": {
     "height": 0,
     "visible": true,
     "width": 100
    }
   },
   "outputs": [
    {
     "name": "stdout",
     "output_type": "stream",
     "text": [
      "        PatientID       Score\n",
      "count  200.000000  200.000000\n",
      "mean   100.500000   65.267600\n",
      "std     57.879185   11.088616\n",
      "min      1.000000   39.748574\n",
      "25%     50.750000   58.021821\n",
      "50%    100.500000   65.135267\n",
      "75%    150.250000   72.504527\n",
      "max    200.000000   98.527315\n"
     ]
    }
   ],
   "source": [
    "clinical_data = pd.read_csv(\"clinical_trial_data.csv\")\n",
    "df = pd.DataFrame(clinical_data)\n",
    "\n",
    "print(df.describe())"
   ]
  },
  {
   "cell_type": "markdown",
   "id": "d5f7ec17-8be3-406c-8cef-a253d99ec3fa",
   "metadata": {
    "panel-layout": {
     "height": 50.8203,
     "visible": true,
     "width": 100
    }
   },
   "source": [
    "## Задание 2. Визуальный анализ"
   ]
  },
  {
   "cell_type": "markdown",
   "id": "97c3e50d-add8-46c2-8a03-5ba8f007396f",
   "metadata": {
    "panel-layout": {
     "height": 51.1406,
     "visible": true,
     "width": 100
    }
   },
   "source": [
    "### Гистограмма\n",
    "\n",
    "#### Построение гистограммы: \n",
    "Рассчет количества бинов: \n",
    "По правилу Стерджеса\n",
    "k = 1 + 3.322 × log10(n)\n",
    "\n",
    "#### Анализ гистограмм\n",
    "Группа, принимающая плацебо: \n",
    "1. Форма распределения:\n",
    "Логнормальное распределение\n",
    "2. Центральная тенденция:\n",
    "  •  Мода: Самый высокий столбец (бин) на гистограмме: в диапозоне между 62-68, частота ~27\n",
    "  •  Медиана: Центральное значение распределения: ближе к 60-65\n",
    "3. Разброс (вариабельность):\n",
    "  •  Ширина распределения: 40 < x < 100\n",
    "  •  Стандартное отклонение: в предлах нормы +- 10%\n",
    "  •  Межквартильный размах (IQR): Наблюдается отклонение в сторону первого квартиля, значения в среднем 45-50\n",
    "4. Частота и KDE\n",
    "   • унимодальное распределение, один пик, разница между вторым и третим бином не достаточно большая для того, скорость роста меньше относительно остальных бинов\n",
    "   • на значении ближе к 100 заметен локальный максмимум\n",
    "    \n",
    "Группа, принимающая препарат: \n",
    "1. Форма распределения:\n",
    "Нормальное распределение\n",
    "2. Центральная тенденция:\n",
    "  •  Мода: Самый высокий столбец (бин) на гистограмме: в диапозоне между 70-75, частота ~23\n",
    "  •  Медиана: Центральное значение распределения: ближе к 70-73 \n",
    "3. Разброс (вариабельность):\n",
    "  •  Ширина распределения: 43 < x < 95\n",
    "  •  Стандартное отклонение: в предлах нормы +- 10%\n",
    "  •  Межквартильный размах (IQR): явных отклонений не выявила\n",
    "4. Частота и KDE\n",
    "   • унимодальное распределение\n",
    "\n",
    "Оба графика: \n",
    "В результате интерпретации двух графиков, видно, что в среднем люди в группе с препаратом чувстуют себя лучше, однако в группе с плацебо больше людей, которые оценивают свое состояние на 60-65. Оба графика имеют одинаковую ширину, в 2 раза больше пациентов в группе с плацебо чувствуют себя на <40, высота столбцов 5 и 10\n"
   ]
  },
  {
   "cell_type": "code",
   "execution_count": 170,
   "id": "5a69c9ce-cfe8-42f6-8365-d514aac9f51e",
   "metadata": {
    "panel-layout": {
     "height": 701,
     "visible": true,
     "width": 100
    },
    "scrolled": true
   },
   "outputs": [
    {
     "data": {
      "image/png": "[encoded data removed]",
      "text/plain": [
       "<Figure size 1200x600 with 2 Axes>"
      ]
     },
     "metadata": {},
     "output_type": "display_data"
    }
   ],
   "source": [
    "import pandas as pd\n",
    "import matplotlib\n",
    "import seaborn as sns\n",
    "import matplotlib.pyplot as plt\n",
    "import math\n",
    "\n",
    "\n",
    "clinical_data = pd.read_csv(\"clinical_trial_data.csv\")\n",
    "df = pd.DataFrame(clinical_data)\n",
    "\n",
    "fig, axs = plt.subplots(1, 2, figsize=(12, 6))\n",
    "grouped = df.groupby('Group')\n",
    "df_placebo =  grouped.get_group('Placebo')\n",
    "df_drug =  grouped.get_group('Drug')\n",
    "\n",
    "num_rows_drug = len(df_drug) #100\n",
    "num_rows_placebo = len(df_placebo) #100\n",
    " \n",
    "bin_drug = round(1 + 3.322* (math.log(100, 10))) #8\n",
    "bin_placebo = round(1 + 3.322* (math.log(100, 10))) #8\n",
    "\n",
    "ax = sns.histplot(data=df_placebo, x='Score', kde=True, bins=bin_placebo, ax=axs[0])\n",
    "axs[0].set_title('Группа, принимающая плацебо')\n",
    "x_ticks = np.arange(0, 100, 5)\n",
    "ax.set_xticks(x_ticks)\n",
    "\n",
    "ax1 = sns.histplot(data=df_drug, x='Score', kde=True, bins=bin_drug, ax=axs[1])\n",
    "axs[1].set_title('Группа, принимающая препарат')\n",
    "x_ticks1 = np.arange(0, 100, 5)\n",
    "ax1.set_xticks(x_ticks1)\n",
    "\n",
    "plt.tight_layout()\n",
    "plt.show()"
   ]
  },
  {
   "cell_type": "markdown",
   "id": "c7b3287f-41bb-46a9-8d5a-52ca39ac6791",
   "metadata": {
    "panel-layout": {
     "height": 95.3515625,
     "visible": true,
     "width": 100
    }
   },
   "source": [
    "### Boxplot \n",
    "\n",
    "Видно, что группа на плацебо чувствует себя хуже: максимальная оценка ~85, когда на препаратах ~92. Медианы у плацебо ~61, у препаратов ~70. \n",
    "В среднем состояние у группы плацебо 53-67, а с препаратом 64-77"
   ]
  },
  {
   "cell_type": "code",
   "execution_count": 140,
   "id": "75448540-76e6-4ccc-a994-bbc6c03194b7",
   "metadata": {
    "panel-layout": {
     "height": 874,
     "visible": true,
     "width": 100
    }
   },
   "outputs": [
    {
     "data": {
      "image/png": "[encoded data removed]",
      "text/plain": [
       "<Figure size 640x480 with 1 Axes>"
      ]
     },
     "metadata": {},
     "output_type": "display_data"
    }
   ],
   "source": [
    "import seaborn as sns\n",
    "import matplotlib.pyplot as plt\n",
    "import pandas as pd\n",
    "import numpy as np\n",
    "\n",
    "clinical_data = pd.read_csv(\"clinical_trial_data.csv\")\n",
    "df = pd.DataFrame(clinical_data)\n",
    "\n",
    "sns.set(style=\"whitegrid\")\n",
    "\n",
    "# Строим boxplot\n",
    "ax = sns.boxplot(x=\"Group\", y=\"Score\", hue=\"Group\", data=df, palette=\"Set3\")\n",
    "\n",
    "legend = ax.get_legend()\n",
    "if legend:\n",
    "    legend.remove()\n",
    "\n",
    "ax.set_ylabel('Оценка')\n",
    "# Подписываем оси и добавляем заголовок\n",
    "ax.set_xlabel('Группа')\n",
    "ax.set_title('Boxplot для групп, принимающих плацебо и препарат')\n",
    "\n",
    "plt.tight_layout()\n",
    "plt.show()"
   ]
  },
  {
   "cell_type": "markdown",
   "id": "cea300c8-3258-442a-98e0-8b7ac960eabe",
   "metadata": {
    "panel-layout": {
     "height": 50.8203125,
     "visible": true,
     "width": 100
    }
   },
   "source": [
    "## Задание 3. Математическая статистика и проверка гипотезы"
   ]
  },
  {
   "cell_type": "markdown",
   "id": "6810e969-7631-48c9-81f3-dc6da2cc2634",
   "metadata": {
    "panel-layout": {
     "height": 44.0859375,
     "visible": true,
     "width": 100
    }
   },
   "source": [
    "### Гипотеза нормальности распределения: тест Шапиро — Уилка"
   ]
  },
  {
   "cell_type": "code",
   "execution_count": 196,
   "id": "104032b2-00a2-4dd4-9942-fea909552a98",
   "metadata": {},
   "outputs": [
    {
     "name": "stdout",
     "output_type": "stream",
     "text": [
      "Группа плацебо:\n",
      "Statistic: 0.981, p-value: 0.152\n",
      "Данные предположительно имеют нормальное распределение.\n",
      "------------------------------------------------------------\n",
      "Группа препарата:\n",
      "Statistic: 0.989, p-value: 0.618\n",
      "Данные (нормальное распределение), вероятно, следуют нормальному распределению (не отклоняем H0)\n"
     ]
    }
   ],
   "source": [
    "from scipy.stats import shapiro\n",
    "import numpy as np\n",
    "\n",
    "\n",
    "clinical_data = pd.read_csv(\"clinical_trial_data.csv\")\n",
    "df = pd.DataFrame(clinical_data)\n",
    "\n",
    "df_drug = df[df['Group'] == 'Drug']['Score']\n",
    "df_placebo = df[df['Group'] == 'Placebo']['Score']\n",
    "\n",
    "print('Группа плацебо:')\n",
    "statistic, pvalue = scipy.stats.shapiro(df_placebo)\n",
    "\n",
    "print(f'Statistic: {statistic:.3f}, p-value: {pvalue:.3f}')\n",
    "if pvalue > 0.05:\n",
    "    print(\"Данные предположительно имеют нормальное распределение.\")\n",
    "else:\n",
    "    print(\"Данные предположительно не имеют нормального распределения.\")\n",
    "    \n",
    "print('-' * 60)\n",
    "\n",
    "print('Группа препарата:')\n",
    "statistic, pvalue = scipy.stats.shapiro(df_drug)\n",
    "\n",
    "print(f'Statistic: {statistic:.3f}, p-value: {pvalue:.3f}')\n",
    "if pvalue > 0.05:\n",
    "    print(\"Данные (нормальное распределение), вероятно, следуют нормальному распределению (не отклоняем H0)\")\n",
    "else:\n",
    "    print(\"Данные (нормальное распределение), вероятно, не следуют нормальному распределению (отклоняем H0)\")\n"
   ]
  },
  {
   "cell_type": "markdown",
   "id": "aa3a6801-913d-4ed0-a013-16f2cfafdd01",
   "metadata": {},
   "source": [
    "#### Вывод:\n",
    "Данные имеют нормальное распределение, p-value > 0,05"
   ]
  },
  {
   "cell_type": "markdown",
   "id": "7d2a782b-f8e2-4c81-8af7-f6e48f6d7244",
   "metadata": {},
   "source": [
    "### Проверка гомогенности дисперсий: тест Левена для проверки равенства дисперсий между группами.\n",
    "\n",
    "Тест Левена — это статистический тест, который проверяет, являются ли дисперсии (разброс) данных в нескольких группах примерно одинаковыми. Он используется для проверки одного из предположений, необходимых для многих статистических методов. \n",
    "\n",
    "Интерпретация: \n",
    "Так как p-значение (0.538) больше, чем уровень значимости (0.05), мы не отклоняем нулевую гипотезу. Другими словами, нет статистически значимых доказательств того, что дисперсии оценок состояния пациентов в группе, принимающей препарат, и в группе, принимающей плацебо, отличаются.\n",
    "\n",
    "Равномерный разброс оценок: Результат теста Левена говорит о том, что разброс (вариабельность) оценок состояния пациентов примерно одинаков в обеих группах. Это значит, что оценки состояния в группе, принимающей препарат, не более или менее разбросаны относительно своего среднего значения, чем оценки состояния в группе, принимающей плацебо."
   ]
  },
  {
   "cell_type": "code",
   "execution_count": null,
   "id": "c4b29234-17f5-46e5-9509-b4f93257dd5f",
   "metadata": {},
   "outputs": [],
   "source": [
    "from scipy.stats import levene\n",
    "import numpy as np\n",
    "import pandas as pd\n",
    "\n",
    "clinical_data = pd.read_csv(\"clinical_trial_data.csv\")\n",
    "df = pd.DataFrame(clinical_data)\n",
    "\n",
    "df_drug = df[df['Group'] == 'Drug']['Score']\n",
    "df_placebo = df[df['Group'] == 'Placebo']['Score']\n",
    "\n",
    "stat, p = levene(df_drug, df_placebo)\n",
    "print(f\"Тест Левена: статистика={stat:.3f}, p-значение={p:.3f}\")\n",
    "\n",
    "# Интерпретация результатов\n",
    "alpha = 0.05  # Уровень значимости\n",
    "if p > alpha:\n",
    "    print(\"Дисперсии, вероятно, равны (не отклоняем H0)\")\n",
    "else:\n",
    "    print(\"Дисперсии, вероятно, не равны (отклоняем H0)\")"
   ]
  },
  {
   "cell_type": "code",
   "execution_count": null,
   "id": "cae34acb-e9b9-402e-a90e-9eb94893061b",
   "metadata": {},
   "outputs": [],
   "source": [
    "from scipy.stats import levene\n",
    "import numpy as np\n",
    "import pandas as pd\n",
    "\n",
    "clinical_data = pd.read_csv(\"clinical_trial_data.csv\")\n",
    "df = pd.DataFrame(clinical_data)\n",
    "\n",
    "df_drug = df[df['Group'] == 'Drug']['Score']\n",
    "df_placebo = df[df['Group'] == 'Placebo']['Score']\n",
    "\n",
    "stat, p = levene(df_drug, df_placebo)\n",
    "print(f\"Тест Левена: статистика={stat:.3f}, p-значение={p:.3f}\")\n",
    "\n",
    "# Интерпретация результатов\n",
    "alpha = 0.05  # Уровень значимости\n",
    "if p > alpha:\n",
    "    print(\"Дисперсии, вероятно, равны (не отклоняем H0)\")\n",
    "else:\n",
    "    print(\"Дисперсии, вероятно, не равны (отклоняем H0)\")"
   ]
  },
  {
   "cell_type": "markdown",
   "id": "73c141bc-a319-49c6-878c-eb07452d33ea",
   "metadata": {},
   "source": [
    "### Выбор и проведение статистического теста: t-тест\n",
    "\n",
    "Так как данные нормально распределены и дисперсии равны, используем t-тест.\n",
    "\n",
    "T-тест - параметрический тест, применяется, когда нужно понять, есть ли различия в среднем значении переменной между двумя группами наблюдений.\n",
    "\n",
    "Интерпретация: \n",
    "Так как p-значение (0.000000001) меньше, чем уровень значимости (0.05), мы отклоняем нулевую гипотезу. Это означает, что есть статистически значимое доказательство того, что средние значения оценок состояния пациентов в группе, принимающей препарат, и в группе, принимающей плацебо, отличаются.\n",
    "\n",
    "Так как мы сравниваете препарат с плацебо, этот результат предполагает, что препарат влияет на оценки состояния пациентов. Однако, мы не можем утверждать в рамках данного теста в какое направление меняется препарат, но исходя из визуальных тестов - в лучшую сторону."
   ]
  },
  {
   "cell_type": "code",
   "execution_count": 5,
   "id": "8b0bd4ac-ca6c-4ca6-9bab-d3d91a8f76fa",
   "metadata": {},
   "outputs": [
    {
     "name": "stdout",
     "output_type": "stream",
     "text": [
      "Statistic: 6.403, p-value: 0.000000001\n",
      "Средние значения в группах статистически значимо отличаются.\n"
     ]
    }
   ],
   "source": [
    "from scipy.stats import ttest_ind\n",
    "import numpy as np\n",
    "import pandas as pd\n",
    "\n",
    "clinical_data = pd.read_csv(\"clinical_trial_data.csv\")\n",
    "df = pd.DataFrame(clinical_data)\n",
    "\n",
    "df_drug = df[df['Group'] == 'Drug']['Score']\n",
    "df_placebo = df[df['Group'] == 'Placebo']['Score']\n",
    "\n",
    "statistic, pvalue = ttest_ind(df_drug, df_placebo)\n",
    "\n",
    "print(f'Statistic: {statistic:.3f}, p-value: {pvalue:.9f}')\n",
    "if pvalue <= 0.05:\n",
    "    print(\"Средние значения в группах статистически значимо отличаются.\")\n",
    "else:\n",
    "    print(\"Средние значения в группах статистически не отличаются.\")"
   ]
  },
  {
   "cell_type": "markdown",
   "id": "f52b42d2-86e2-489e-8346-7a292286a944",
   "metadata": {},
   "source": [
    "Интерпретация: \n",
    "Так как p-значение (0.538) больше, чем уровень значимости (0.05), мы не отклоняем нулевую гипотезу. Другими словами, нет статистически значимых доказательств того, что дисперсии оценок состояния пациентов в группе, принимающей препарат, и в группе, принимающей плацебо, отличаются.\n",
    "\n",
    "Равномерный разброс оценок: Результат теста Левена говорит о том, что разброс (вариабельность) оценок состояния пациентов примерно одинаков в обеих группах. Это значит, что оценки состояния в группе, принимающей препарат, не более или менее разбросаны относительно своего среднего значения, чем оценки состояния в группе, принимающей плацебо."
   ]
  },
  {
   "cell_type": "markdown",
   "id": "d7ee18d8-bdd0-4422-9eed-971a8168d2e5",
   "metadata": {},
   "source": [
    "### Оценка размера эффекта: вычисление коэффициента Коэна d для оценки размера эффекта.\n",
    "\n",
    "Коэффициент Коэна (Cohen's d) — это мера размера эффекта, которая показывает, насколько велика разница между средними значениями двух групп, выраженная в единицах стандартного отклонения. Он является стандартизованной мерой и позволяет сравнивать размеры эффектов в различных исследованиях, даже если они используют разные шкалы измерения."
   ]
  },
  {
   "cell_type": "code",
   "execution_count": 9,
   "id": "b8f2957c-bac8-4271-b25c-82026200fa9b",
   "metadata": {},
   "outputs": [
    {
     "name": "stdout",
     "output_type": "stream",
     "text": [
      "Коэффициент Коэна d: 0.906\n",
      "Большой размер эффекта\n"
     ]
    }
   ],
   "source": [
    "import numpy as np\n",
    "from scipy.stats import ttest_ind\n",
    "import pandas as pd\n",
    "\n",
    "\n",
    "clinical_data = pd.read_csv(\"clinical_trial_data.csv\")\n",
    "df = pd.DataFrame(clinical_data)\n",
    "\n",
    "df_drug = df[df['Group'] == 'Drug']['Score']\n",
    "df_placebo = df[df['Group'] == 'Placebo']['Score']\n",
    "def cohens_d(group1, group2):\n",
    "    n1 = len(group1)\n",
    "    n2 = len(group2)\n",
    "    mean1 = np.mean(group1)\n",
    "    mean2 = np.mean(group2)\n",
    "    std1 = np.std(group1, ddof=1)\n",
    "    std2 = np.std(group2, ddof=1)\n",
    "    s_pooled = np.sqrt(((n1-1) * std1**2 + (n2-1) * std2**2) / (n1 + n2 - 2))\n",
    "    d = (mean1 - mean2) / s_pooled\n",
    "    return d\n",
    "\n",
    "d = cohens_d(df_drug, df_placebo)\n",
    "\n",
    "print(f\"Коэффициент Коэна d: {d:.3f}\")\n",
    "# Интерпретация результатов\n",
    "if abs(d) >= 0.8:\n",
    "    print(\"Большой размер эффекта\")\n",
    "elif abs(d) >= 0.5:\n",
    "    print(\"Средний размер эффекта\")\n",
    "elif abs(d) >= 0.2:\n",
    "     print(\"Маленький размер эффекта\")\n",
    "else:\n",
    "    print(\"Очень маленький размер эффекта или нет эффекта\")"
   ]
  },
  {
   "cell_type": "markdown",
   "id": "218c8956-5188-426b-9d9c-aa5d6c86e18b",
   "metadata": {},
   "source": [
    "Интерпретация: \n",
    "\n",
    "Коэффициент Коэна d = 0.906 можно интерпретировать как то, что препарат имеет достаточно выраженный эффект на оценку состояния пациентов. Различие между группами, по-видимому, не случайно, а обусловлено тем, что пациенты принимают препарат.\n"
   ]
  },
  {
   "cell_type": "code",
   "execution_count": null,
   "id": "386e678b-9fa3-4ea2-8121-34c55465da45",
   "metadata": {},
   "outputs": [],
   "source": []
  }
 ],
 "metadata": {
  "kernelspec": {
   "display_name": "Python [conda env:base] *",
   "language": "python",
   "name": "conda-base-py"
  },
  "language_info": {
   "codemirror_mode": {
    "name": "ipython",
    "version": 3
   },
   "file_extension": ".py",
   "mimetype": "text/x-python",
   "name": "python",
   "nbconvert_exporter": "python",
   "pygments_lexer": "ipython3",
   "version": "3.12.7"
  },
  "panel-cell-order": [
   "f8099377-c985-47ba-9687-2f996220c3ed",
   "c4542eb6-659f-4c95-89fc-1de262b26aca",
   "46ac08c8-3d86-476b-981a-2136395905c5",
   "c7999b97-9a27-430a-b036-0e9481c78b48",
   "7f4cd225-0585-473b-917d-cd4e4199e0cb",
   "37480106-06da-4524-9396-fc9c48c0eeb4",
   "57b174d7-e124-45ab-b033-ed8b7b486ac3",
   "d5f7ec17-8be3-406c-8cef-a253d99ec3fa",
   "97c3e50d-add8-46c2-8a03-5ba8f007396f",
   "5a69c9ce-cfe8-42f6-8365-d514aac9f51e",
   "75448540-76e6-4ccc-a994-bbc6c03194b7",
   "c7b3287f-41bb-46a9-8d5a-52ca39ac6791",
   "cea300c8-3258-442a-98e0-8b7ac960eabe",
   "6810e969-7631-48c9-81f3-dc6da2cc2634"
  ]
 },
 "nbformat": 4,
 "nbformat_minor": 5
}
